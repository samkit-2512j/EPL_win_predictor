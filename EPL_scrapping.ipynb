{
  "cells": [
    {
      "cell_type": "code",
      "execution_count": 8,
      "metadata": {
        "id": "rT3cXIET3PAE"
      },
      "outputs": [],
      "source": [
        "import requests as rqt"
      ]
    },
    {
      "cell_type": "code",
      "execution_count": 9,
      "metadata": {
        "id": "LWkuIUT_4WQR"
      },
      "outputs": [],
      "source": [
        "standings_url=\"https://fbref.com/en/comps/9/Premier-League-Stats\""
      ]
    },
    {
      "cell_type": "code",
      "execution_count": 10,
      "metadata": {
        "colab": {
          "base_uri": "https://localhost:8080/"
        },
        "id": "UsmIxGvZ4fAv",
        "outputId": "4f67a9f1-4c6d-42d3-ad61-6bc9dab581a0"
      },
      "outputs": [
        {
          "data": {
            "text/plain": [
              "<Response [429]>"
            ]
          },
          "execution_count": 10,
          "metadata": {},
          "output_type": "execute_result"
        }
      ],
      "source": [
        "data=rqt.get(standings_url)\n",
        "data"
      ]
    },
    {
      "cell_type": "code",
      "execution_count": 11,
      "metadata": {
        "id": "B44A7fpg46IQ"
      },
      "outputs": [],
      "source": [
        "from bs4 import BeautifulSoup"
      ]
    },
    {
      "cell_type": "code",
      "execution_count": 12,
      "metadata": {
        "id": "_qxFPI0k5c6S"
      },
      "outputs": [],
      "source": [
        "soup = BeautifulSoup(data.text)"
      ]
    },
    {
      "cell_type": "code",
      "execution_count": 13,
      "metadata": {
        "colab": {
          "base_uri": "https://localhost:8080/",
          "height": 159
        },
        "id": "7Si6laN-5hym",
        "outputId": "2d17e7cb-0f3f-4e57-cca2-e0534cc4a6cc"
      },
      "outputs": [
        {
          "ename": "IndexError",
          "evalue": "list index out of range",
          "output_type": "error",
          "traceback": [
            "\u001b[0;31m---------------------------------------------------------------------------\u001b[0m",
            "\u001b[0;31mIndexError\u001b[0m                                Traceback (most recent call last)",
            "Cell \u001b[0;32mIn[13], line 1\u001b[0m\n\u001b[0;32m----> 1\u001b[0m standings_table\u001b[38;5;241m=\u001b[39m\u001b[43msoup\u001b[49m\u001b[38;5;241;43m.\u001b[39;49m\u001b[43mselect\u001b[49m\u001b[43m(\u001b[49m\u001b[38;5;124;43m'\u001b[39;49m\u001b[38;5;124;43mtable.stats_table\u001b[39;49m\u001b[38;5;124;43m'\u001b[39;49m\u001b[43m)\u001b[49m\u001b[43m[\u001b[49m\u001b[38;5;241;43m0\u001b[39;49m\u001b[43m]\u001b[49m\n\u001b[1;32m      2\u001b[0m standings_table\n",
            "\u001b[0;31mIndexError\u001b[0m: list index out of range"
          ]
        }
      ],
      "source": [
        "standings_table=soup.select('table.stats_table')[0]\n",
        "standings_table"
      ]
    },
    {
      "cell_type": "code",
      "execution_count": null,
      "metadata": {
        "id": "bTzapG_Z6eP7"
      },
      "outputs": [],
      "source": [
        "links=standings_table.find_all('a')"
      ]
    },
    {
      "cell_type": "code",
      "execution_count": null,
      "metadata": {
        "id": "DwUkH6riXk6X"
      },
      "outputs": [],
      "source": [
        "links=[l.get('href') for l in links]"
      ]
    },
    {
      "cell_type": "code",
      "execution_count": null,
      "metadata": {
        "id": "HCFQGtpGglfs"
      },
      "outputs": [],
      "source": [
        "team_links=[l for l in links if '/squads' in l]"
      ]
    },
    {
      "cell_type": "code",
      "execution_count": null,
      "metadata": {
        "id": "KgjnISHqhath"
      },
      "outputs": [],
      "source": [
        "team_urls=[f\"https://fbref.com{l}\" for l in team_links]"
      ]
    },
    {
      "cell_type": "code",
      "execution_count": null,
      "metadata": {
        "id": "ThXA9VikhctE"
      },
      "outputs": [],
      "source": [
        "team_urls=team_urls[0]"
      ]
    },
    {
      "cell_type": "code",
      "execution_count": null,
      "metadata": {
        "id": "P6QJ1JWCh4rb"
      },
      "outputs": [
        {
          "data": {
            "text/plain": [
              "<Response [200]>"
            ]
          },
          "execution_count": 55,
          "metadata": {},
          "output_type": "execute_result"
        }
      ],
      "source": [
        "data=rqt.get(team_urls)\n",
        "data"
      ]
    },
    {
      "cell_type": "code",
      "execution_count": null,
      "metadata": {
        "id": "-RrFy-WzZjPX"
      },
      "outputs": [
        {
          "ename": "NameError",
          "evalue": "name 'data' is not defined",
          "output_type": "error",
          "traceback": [
            "\u001b[0;31m---------------------------------------------------------------------------\u001b[0m",
            "\u001b[0;31mNameError\u001b[0m                                 Traceback (most recent call last)",
            "Cell \u001b[0;32mIn[7], line 3\u001b[0m\n\u001b[1;32m      1\u001b[0m \u001b[38;5;28;01mimport\u001b[39;00m \u001b[38;5;21;01mpandas\u001b[39;00m \u001b[38;5;28;01mas\u001b[39;00m \u001b[38;5;21;01mpd\u001b[39;00m\n\u001b[0;32m----> 3\u001b[0m matches\u001b[38;5;241m=\u001b[39mpd\u001b[38;5;241m.\u001b[39mread_html(\u001b[43mdata\u001b[49m\u001b[38;5;241m.\u001b[39mtext,match\u001b[38;5;241m=\u001b[39m\u001b[38;5;124m\"\u001b[39m\u001b[38;5;124mScores & Fixtures\u001b[39m\u001b[38;5;124m\"\u001b[39m)\n",
            "\u001b[0;31mNameError\u001b[0m: name 'data' is not defined"
          ]
        }
      ],
      "source": [
        "import pandas as pd\n",
        "\n",
        "matches=pd.read_html(data.text,match=\"Scores & Fixtures\")"
      ]
    },
    {
      "cell_type": "code",
      "execution_count": null,
      "metadata": {
        "id": "Qn6NM9QlZzFh"
      },
      "outputs": [],
      "source": [
        "soup=BeautifulSoup(data.text)"
      ]
    },
    {
      "cell_type": "code",
      "execution_count": null,
      "metadata": {
        "id": "CX0jUdgtZ1CB"
      },
      "outputs": [],
      "source": [
        "links=soup.find_all('a')"
      ]
    },
    {
      "cell_type": "code",
      "execution_count": null,
      "metadata": {
        "id": "iAwYgom-aUVD"
      },
      "outputs": [],
      "source": [
        "links=[l.get('href') for l in links]"
      ]
    },
    {
      "cell_type": "code",
      "execution_count": null,
      "metadata": {
        "colab": {
          "base_uri": "https://localhost:8080/"
        },
        "id": "6AlY0piBaZ44",
        "outputId": "3d1ea630-3ffc-4e8f-bef2-46857637b260"
      },
      "outputs": [
        {
          "data": {
            "text/plain": [
              "['/en/squads/b8fd03ef/2023-2024/matchlogs/all_comps/shooting/Manchester-City-Match-Logs-All-Competitions',\n",
              " '/en/squads/b8fd03ef/2023-2024/matchlogs/all_comps/shooting/Manchester-City-Match-Logs-All-Competitions',\n",
              " '/en/squads/b8fd03ef/2023-2024/matchlogs/all_comps/shooting/Manchester-City-Match-Logs-All-Competitions',\n",
              " '/en/squads/b8fd03ef/2023-2024/matchlogs/all_comps/shooting/Manchester-City-Match-Logs-All-Competitions']"
            ]
          },
          "execution_count": 60,
          "metadata": {},
          "output_type": "execute_result"
        }
      ],
      "source": [
        "links=[l for l in links if l and 'all_comps/shooting/' in l]\n",
        "links"
      ]
    },
    {
      "cell_type": "code",
      "execution_count": null,
      "metadata": {
        "colab": {
          "base_uri": "https://localhost:8080/"
        },
        "id": "iX8GsinAlbkA",
        "outputId": "966e664d-20c2-403c-fa69-187e65b65df3"
      },
      "outputs": [
        {
          "data": {
            "text/plain": [
              "<Response [200]>"
            ]
          },
          "execution_count": 61,
          "metadata": {},
          "output_type": "execute_result"
        }
      ],
      "source": [
        "data=rqt.get(f\"https://fbref.com{links[0]}\")\n",
        "data"
      ]
    },
    {
      "cell_type": "code",
      "execution_count": null,
      "metadata": {
        "id": "okGEYj09mUPy"
      },
      "outputs": [],
      "source": [
        "shooting=pd.read_html(data.text,match=\"Shooting\")[0]"
      ]
    },
    {
      "cell_type": "code",
      "execution_count": null,
      "metadata": {
        "id": "WZiFnJZUmfJB"
      },
      "outputs": [],
      "source": [
        "shooting.columns=shooting.columns.droplevel()"
      ]
    },
    {
      "cell_type": "code",
      "execution_count": null,
      "metadata": {
        "colab": {
          "base_uri": "https://localhost:8080/",
          "height": 236
        },
        "id": "FC3Ao_t9mspc",
        "outputId": "254694df-e21f-4b52-ebcf-2295740ec61e"
      },
      "outputs": [
        {
          "data": {
            "text/html": [
              "<div>\n",
              "<style scoped>\n",
              "    .dataframe tbody tr th:only-of-type {\n",
              "        vertical-align: middle;\n",
              "    }\n",
              "\n",
              "    .dataframe tbody tr th {\n",
              "        vertical-align: top;\n",
              "    }\n",
              "\n",
              "    .dataframe thead th {\n",
              "        text-align: right;\n",
              "    }\n",
              "</style>\n",
              "<table border=\"1\" class=\"dataframe\">\n",
              "  <thead>\n",
              "    <tr style=\"text-align: right;\">\n",
              "      <th></th>\n",
              "      <th>Date</th>\n",
              "      <th>Time</th>\n",
              "      <th>Comp</th>\n",
              "      <th>Round</th>\n",
              "      <th>Day</th>\n",
              "      <th>Venue</th>\n",
              "      <th>Result</th>\n",
              "      <th>GF</th>\n",
              "      <th>GA</th>\n",
              "      <th>Opponent</th>\n",
              "      <th>...</th>\n",
              "      <th>Dist</th>\n",
              "      <th>FK</th>\n",
              "      <th>PK</th>\n",
              "      <th>PKatt</th>\n",
              "      <th>xG</th>\n",
              "      <th>npxG</th>\n",
              "      <th>npxG/Sh</th>\n",
              "      <th>G-xG</th>\n",
              "      <th>np:G-xG</th>\n",
              "      <th>Match Report</th>\n",
              "    </tr>\n",
              "  </thead>\n",
              "  <tbody>\n",
              "    <tr>\n",
              "      <th>0</th>\n",
              "      <td>2023-08-06</td>\n",
              "      <td>16:00</td>\n",
              "      <td>Community Shield</td>\n",
              "      <td>FA Community Shield</td>\n",
              "      <td>Sun</td>\n",
              "      <td>Neutral</td>\n",
              "      <td>D</td>\n",
              "      <td>1 (1)</td>\n",
              "      <td>1 (4)</td>\n",
              "      <td>Arsenal</td>\n",
              "      <td>...</td>\n",
              "      <td>NaN</td>\n",
              "      <td>NaN</td>\n",
              "      <td>0</td>\n",
              "      <td>0</td>\n",
              "      <td>NaN</td>\n",
              "      <td>NaN</td>\n",
              "      <td>NaN</td>\n",
              "      <td>NaN</td>\n",
              "      <td>NaN</td>\n",
              "      <td>Match Report</td>\n",
              "    </tr>\n",
              "    <tr>\n",
              "      <th>1</th>\n",
              "      <td>2023-08-11</td>\n",
              "      <td>20:00</td>\n",
              "      <td>Premier League</td>\n",
              "      <td>Matchweek 1</td>\n",
              "      <td>Fri</td>\n",
              "      <td>Away</td>\n",
              "      <td>W</td>\n",
              "      <td>3</td>\n",
              "      <td>0</td>\n",
              "      <td>Burnley</td>\n",
              "      <td>...</td>\n",
              "      <td>13.9</td>\n",
              "      <td>0.0</td>\n",
              "      <td>0</td>\n",
              "      <td>0</td>\n",
              "      <td>1.9</td>\n",
              "      <td>1.9</td>\n",
              "      <td>0.12</td>\n",
              "      <td>1.1</td>\n",
              "      <td>1.1</td>\n",
              "      <td>Match Report</td>\n",
              "    </tr>\n",
              "    <tr>\n",
              "      <th>2</th>\n",
              "      <td>2023-08-16</td>\n",
              "      <td>22:00</td>\n",
              "      <td>Super Cup</td>\n",
              "      <td>UEFA Super Cup</td>\n",
              "      <td>Wed</td>\n",
              "      <td>Home</td>\n",
              "      <td>D</td>\n",
              "      <td>1 (5)</td>\n",
              "      <td>1 (4)</td>\n",
              "      <td>es Sevilla</td>\n",
              "      <td>...</td>\n",
              "      <td>NaN</td>\n",
              "      <td>NaN</td>\n",
              "      <td>0</td>\n",
              "      <td>0</td>\n",
              "      <td>NaN</td>\n",
              "      <td>NaN</td>\n",
              "      <td>NaN</td>\n",
              "      <td>NaN</td>\n",
              "      <td>NaN</td>\n",
              "      <td>Match Report</td>\n",
              "    </tr>\n",
              "    <tr>\n",
              "      <th>3</th>\n",
              "      <td>2023-08-19</td>\n",
              "      <td>20:00</td>\n",
              "      <td>Premier League</td>\n",
              "      <td>Matchweek 2</td>\n",
              "      <td>Sat</td>\n",
              "      <td>Home</td>\n",
              "      <td>W</td>\n",
              "      <td>1</td>\n",
              "      <td>0</td>\n",
              "      <td>Newcastle Utd</td>\n",
              "      <td>...</td>\n",
              "      <td>17.9</td>\n",
              "      <td>0.0</td>\n",
              "      <td>0</td>\n",
              "      <td>0</td>\n",
              "      <td>1.0</td>\n",
              "      <td>1.0</td>\n",
              "      <td>0.07</td>\n",
              "      <td>0.0</td>\n",
              "      <td>0.0</td>\n",
              "      <td>Match Report</td>\n",
              "    </tr>\n",
              "    <tr>\n",
              "      <th>4</th>\n",
              "      <td>2023-08-27</td>\n",
              "      <td>14:00</td>\n",
              "      <td>Premier League</td>\n",
              "      <td>Matchweek 3</td>\n",
              "      <td>Sun</td>\n",
              "      <td>Away</td>\n",
              "      <td>W</td>\n",
              "      <td>2</td>\n",
              "      <td>1</td>\n",
              "      <td>Sheffield Utd</td>\n",
              "      <td>...</td>\n",
              "      <td>17.3</td>\n",
              "      <td>2.0</td>\n",
              "      <td>0</td>\n",
              "      <td>1</td>\n",
              "      <td>3.5</td>\n",
              "      <td>2.8</td>\n",
              "      <td>0.10</td>\n",
              "      <td>-1.5</td>\n",
              "      <td>-0.8</td>\n",
              "      <td>Match Report</td>\n",
              "    </tr>\n",
              "  </tbody>\n",
              "</table>\n",
              "<p>5 rows × 26 columns</p>\n",
              "</div>"
            ],
            "text/plain": [
              "         Date   Time              Comp                Round  Day    Venue  \\\n",
              "0  2023-08-06  16:00  Community Shield  FA Community Shield  Sun  Neutral   \n",
              "1  2023-08-11  20:00    Premier League          Matchweek 1  Fri     Away   \n",
              "2  2023-08-16  22:00         Super Cup       UEFA Super Cup  Wed     Home   \n",
              "3  2023-08-19  20:00    Premier League          Matchweek 2  Sat     Home   \n",
              "4  2023-08-27  14:00    Premier League          Matchweek 3  Sun     Away   \n",
              "\n",
              "  Result     GF     GA       Opponent  ...  Dist   FK  PK  PKatt   xG  npxG  \\\n",
              "0      D  1 (1)  1 (4)        Arsenal  ...   NaN  NaN   0      0  NaN   NaN   \n",
              "1      W      3      0        Burnley  ...  13.9  0.0   0      0  1.9   1.9   \n",
              "2      D  1 (5)  1 (4)     es Sevilla  ...   NaN  NaN   0      0  NaN   NaN   \n",
              "3      W      1      0  Newcastle Utd  ...  17.9  0.0   0      0  1.0   1.0   \n",
              "4      W      2      1  Sheffield Utd  ...  17.3  2.0   0      1  3.5   2.8   \n",
              "\n",
              "   npxG/Sh  G-xG  np:G-xG  Match Report  \n",
              "0      NaN   NaN      NaN  Match Report  \n",
              "1     0.12   1.1      1.1  Match Report  \n",
              "2      NaN   NaN      NaN  Match Report  \n",
              "3     0.07   0.0      0.0  Match Report  \n",
              "4     0.10  -1.5     -0.8  Match Report  \n",
              "\n",
              "[5 rows x 26 columns]"
            ]
          },
          "execution_count": 64,
          "metadata": {},
          "output_type": "execute_result"
        }
      ],
      "source": [
        "shooting.head()"
      ]
    },
    {
      "cell_type": "code",
      "execution_count": null,
      "metadata": {
        "id": "2IZ9bvOCmvTe"
      },
      "outputs": [],
      "source": [
        "team_data=matches[0].merge(shooting[[\"Date\",\"Sh\",\"SoT\",\"Dist\",\"FK\",\"PK\",\"PKatt\"]],on=\"Date\")"
      ]
    },
    {
      "cell_type": "code",
      "execution_count": null,
      "metadata": {
        "colab": {
          "base_uri": "https://localhost:8080/"
        },
        "id": "fC_tqw7Qnhu4",
        "outputId": "12b73903-0d34-44d0-8677-0cd54a3e449c"
      },
      "outputs": [
        {
          "data": {
            "text/plain": [
              "(58, 26)"
            ]
          },
          "execution_count": 66,
          "metadata": {},
          "output_type": "execute_result"
        }
      ],
      "source": [
        "shooting.shape"
      ]
    },
    {
      "cell_type": "code",
      "execution_count": null,
      "metadata": {
        "id": "ZxRgxxNZnorB"
      },
      "outputs": [],
      "source": [
        "years=list(range(2022,2020,-1))"
      ]
    },
    {
      "cell_type": "code",
      "execution_count": null,
      "metadata": {
        "id": "Kcz4B2XnOU2h"
      },
      "outputs": [],
      "source": [
        "standings_url=\"https://fbref.com/en/comps/9/Premier-League-Stats\""
      ]
    },
    {
      "cell_type": "code",
      "execution_count": null,
      "metadata": {
        "id": "Z2O2WcR7S-iC"
      },
      "outputs": [],
      "source": [
        "all_matches=[]"
      ]
    },
    {
      "cell_type": "code",
      "execution_count": null,
      "metadata": {
        "colab": {
          "base_uri": "https://localhost:8080/",
          "height": 211
        },
        "id": "8LPpuoC_oZP8",
        "outputId": "c5567546-3c8a-4647-a746-9c1532831424"
      },
      "outputs": [
        {
          "ename": "NameError",
          "evalue": "name 'rqt' is not defined",
          "output_type": "error",
          "traceback": [
            "\u001b[0;31m---------------------------------------------------------------------------\u001b[0m",
            "\u001b[0;31mNameError\u001b[0m                                 Traceback (most recent call last)",
            "Cell \u001b[0;32mIn[4], line 3\u001b[0m\n\u001b[1;32m      1\u001b[0m \u001b[38;5;28;01mimport\u001b[39;00m \u001b[38;5;21;01mtime\u001b[39;00m\n\u001b[1;32m      2\u001b[0m \u001b[38;5;28;01mfor\u001b[39;00m year \u001b[38;5;129;01min\u001b[39;00m years:\n\u001b[0;32m----> 3\u001b[0m   data\u001b[38;5;241m=\u001b[39m\u001b[43mrqt\u001b[49m\u001b[38;5;241m.\u001b[39mget(standings_url)\n\u001b[1;32m      4\u001b[0m   \u001b[38;5;28mprint\u001b[39m(data)\n\u001b[1;32m      5\u001b[0m   soup \u001b[38;5;241m=\u001b[39m BeautifulSoup(data\u001b[38;5;241m.\u001b[39mtext)\n",
            "\u001b[0;31mNameError\u001b[0m: name 'rqt' is not defined"
          ]
        }
      ],
      "source": [
        "import time\n",
        "for year in years:\n",
        "  data=rqt.get(standings_url)\n",
        "  print(data)\n",
        "  soup = BeautifulSoup(data.text)\n",
        "  standings_table=soup.select('table.stats_table')[0]\n",
        "  links=standings_table.find_all('a')\n",
        "  links=[l.get('href') for l in links]\n",
        "  team_links=[l for l in links if '/squads' in l]\n",
        "  team_urls=[f\"https://fbref.com{l}\" for l in team_links]\n",
        "\n",
        "  previous_season=soup.select(\"a.prev\")[0].get('href')\n",
        "  standings_url=f\"https://fbref.com{previous_season}\"\n",
        "\n",
        "  for team_url in team_urls:\n",
        "    team_name=team_url.split(\"/\")[-1].replace(\"-Stats\",\"\").replace(\"-\",\" \")\n",
        "    data=rqt.get(team_url)\n",
        "    matches=pd.read_html(data.text,match=\"Scores & Fixtures\")\n",
        "    soup=BeautifulSoup(data.text)\n",
        "    links=soup.find_all('a')\n",
        "    links=[l.get('href') for l in links]\n",
        "    links=[l for l in links if l and 'all_comps/shooting/' in l]\n",
        "    data=rqt.get(f\"https://fbref.com{links[0]}\")\n",
        "    shooting=pd.read_html(data.text,match=\"Shooting\")[0]\n",
        "    shooting.columns=shooting.columns.droplevel()\n",
        "\n",
        "    try:\n",
        "      team_data=matches[0].merge(shooting[[\"Date\",\"Sh\",\"SoT\",\"Dist\",\"FK\",\"PK\",\"PKatt\"]],on=\"Date\")\n",
        "    except ValueError:\n",
        "      continue\n",
        "    team_data=team_data[team_data[\"Comp\"]==\"Premier League\"]\n",
        "    team_data[\"Season\"]=year\n",
        "    team_data[\"Team\"]=team_name\n",
        "    all_matches.append(team_data)\n",
        "    time.sleep(2)\n"
      ]
    },
    {
      "cell_type": "code",
      "execution_count": null,
      "metadata": {
        "id": "Qj3HkugkTDrF"
      },
      "outputs": [],
      "source": [
        "match_df=pd.concat(all_matches)"
      ]
    },
    {
      "cell_type": "code",
      "execution_count": null,
      "metadata": {
        "id": "EtBMZRclTmwB"
      },
      "outputs": [],
      "source": [
        "match_df.to_csv('matches.csv')"
      ]
    }
  ],
  "metadata": {
    "colab": {
      "provenance": []
    },
    "kernelspec": {
      "display_name": "Python 3",
      "name": "python3"
    },
    "language_info": {
      "codemirror_mode": {
        "name": "ipython",
        "version": 3
      },
      "file_extension": ".py",
      "mimetype": "text/x-python",
      "name": "python",
      "nbconvert_exporter": "python",
      "pygments_lexer": "ipython3",
      "version": "3.8.10"
    }
  },
  "nbformat": 4,
  "nbformat_minor": 0
}
